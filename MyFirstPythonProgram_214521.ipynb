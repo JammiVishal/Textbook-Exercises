{
  "nbformat": 4,
  "nbformat_minor": 0,
  "metadata": {
    "colab": {
      "name": "MyFirstPythonProgram_214521.ipynb",
      "provenance": []
    },
    "kernelspec": {
      "name": "python3",
      "display_name": "Python 3"
    },
    "language_info": {
      "name": "python"
    }
  },
  "cells": [
    {
      "cell_type": "markdown",
      "source": [
        "Sai Ram. I will be writing my first Python Program Keyword Syntax Error/Mistakes Debugging\n"
      ],
      "metadata": {
        "id": "ntVxgSmZ1tv4"
      }
    },
    {
      "cell_type": "code",
      "source": [
        ""
      ],
      "metadata": {
        "id": "BZ1xI79UDSKL"
      },
      "execution_count": null,
      "outputs": []
    },
    {
      "cell_type": "code",
      "execution_count": null,
      "metadata": {
        "colab": {
          "base_uri": "https://localhost:8080/"
        },
        "id": "7OQ9SLa71KfL",
        "outputId": "e3db97ad-a34f-4b8e-9088-bfd8c74d2cc8"
      },
      "outputs": [
        {
          "output_type": "stream",
          "name": "stdout",
          "text": [
            "Sai Ram\n",
            "Sai\n",
            "Ram\n"
          ]
        }
      ],
      "source": [
        "print('Sai Ram')\n",
        "print(\"Sai\")\n",
        "print(\"Ram\")"
      ]
    },
    {
      "cell_type": "code",
      "source": [
        "print(\"Hello, World\")"
      ],
      "metadata": {
        "colab": {
          "base_uri": "https://localhost:8080/"
        },
        "id": "klPAR1gD3hOG",
        "outputId": "0c0083e8-ad2c-458b-830a-b3de87e566fa"
      },
      "execution_count": null,
      "outputs": [
        {
          "output_type": "stream",
          "name": "stdout",
          "text": [
            "Hello, World\n"
          ]
        }
      ]
    },
    {
      "cell_type": "code",
      "source": [
        "if 5 > 11 :\n",
        "  print (\"first is greater than 4\")\n",
        "else :\n",
        "   print (\"sencond num is greater thann first\") "
      ],
      "metadata": {
        "colab": {
          "base_uri": "https://localhost:8080/"
        },
        "id": "NRzuVYfu_gkb",
        "outputId": "93f6cfc5-d6bd-4169-eb2a-e653bf799d61"
      },
      "execution_count": null,
      "outputs": [
        {
          "output_type": "stream",
          "name": "stdout",
          "text": [
            "sencond num is greater thann first\n"
          ]
        }
      ]
    },
    {
      "cell_type": "code",
      "source": [
        "if (1 > 0) :\n",
        "  print(1 + 1) "
      ],
      "metadata": {
        "colab": {
          "base_uri": "https://localhost:8080/"
        },
        "id": "bGDZX5eP_kwx",
        "outputId": "4df0fa98-8aec-4d20-dadd-b756235151f9"
      },
      "execution_count": null,
      "outputs": [
        {
          "output_type": "stream",
          "name": "stdout",
          "text": [
            "2\n"
          ]
        }
      ]
    },
    {
      "cell_type": "code",
      "source": [
        "# AND operator - only TRUE and TRUE will become TRUE; all others are False\n",
        "# OR operator - only False and False will become False; all others are True\n",
        "A = True\n",
        "B = True\n",
        "A and B"
      ],
      "metadata": {
        "colab": {
          "base_uri": "https://localhost:8080/"
        },
        "id": "y_2Nw1mKAxB1",
        "outputId": "a4cab032-8ca4-4bf2-b679-563e93e42e8f"
      },
      "execution_count": null,
      "outputs": [
        {
          "output_type": "execute_result",
          "data": {
            "text/plain": [
              "True"
            ]
          },
          "metadata": {},
          "execution_count": 8
        }
      ]
    },
    {
      "cell_type": "code",
      "source": [
        "import this"
      ],
      "metadata": {
        "id": "JAuTy-1oHkcl",
        "colab": {
          "base_uri": "https://localhost:8080/"
        },
        "outputId": "677f1142-c612-4bf0-facb-e489861719d2"
      },
      "execution_count": null,
      "outputs": [
        {
          "output_type": "stream",
          "name": "stdout",
          "text": [
            "The Zen of Python, by Tim Peters\n",
            "\n",
            "Beautiful is better than ugly.\n",
            "Explicit is better than implicit.\n",
            "Simple is better than complex.\n",
            "Complex is better than complicated.\n",
            "Flat is better than nested.\n",
            "Sparse is better than dense.\n",
            "Readability counts.\n",
            "Special cases aren't special enough to break the rules.\n",
            "Although practicality beats purity.\n",
            "Errors should never pass silently.\n",
            "Unless explicitly silenced.\n",
            "In the face of ambiguity, refuse the temptation to guess.\n",
            "There should be one-- and preferably only one --obvious way to do it.\n",
            "Although that way may not be obvious at first unless you're Dutch.\n",
            "Now is better than never.\n",
            "Although never is often better than *right* now.\n",
            "If the implementation is hard to explain, it's a bad idea.\n",
            "If the implementation is easy to explain, it may be a good idea.\n",
            "Namespaces are one honking great idea -- let's do more of those!\n"
          ]
        }
      ]
    },
    {
      "cell_type": "code",
      "source": [
        "if (1 > 0) :\n",
        "  print(1 + 1) "
      ],
      "metadata": {
        "colab": {
          "base_uri": "https://localhost:8080/"
        },
        "outputId": "4df0fa98-8aec-4d20-dadd-b756235151f9",
        "id": "ov9GhOrXFU-I"
      },
      "execution_count": null,
      "outputs": [
        {
          "output_type": "stream",
          "name": "stdout",
          "text": [
            "2\n"
          ]
        }
      ]
    }
  ]
}