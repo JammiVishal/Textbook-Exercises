{
  "nbformat": 4,
  "nbformat_minor": 0,
  "metadata": {
    "colab": {
      "name": "demand.ipynb",
      "provenance": []
    },
    "kernelspec": {
      "name": "python3",
      "display_name": "Python 3"
    },
    "language_info": {
      "name": "python"
    }
  },
  "cells": [
    {
      "cell_type": "code",
      "source": [
        "def elast(price1,amount1,price2,amount2):\n",
        "  elasticity = (amount2 - amount1) / (price2 - price1)\n",
        "  return (elasticity)\n",
        "  \n",
        "def scale_elast(elasticity):\n",
        "  if elasticity == 0 : \n",
        "    return 'Perfectly Inelastic'\n",
        "  elif elasticity < 1 :\n",
        "    return 'Relatively inelastic'\n",
        "  elif elasticity == 1 : \n",
        "    return 'Unit Elastic'\n",
        "  elif elasticity > 1 : \n",
        "    return 'Relatively Elastic'\n",
        "\n",
        "price1 = float(input('Enter the prior price : '))\n",
        "amount1 = float(input('Enter the prior amount : '))\n",
        "price2 = float(input('Enter the latter price : '))\n",
        "amount2 = float(input('Enter the latter amount : '))\n",
        "\n",
        "elasticity = elast(price1,amount1,price2,amount2)\n",
        "print('Elasticity = ',elasticity)\n",
        "\n",
        "character = scale_elast(elasticity)\n",
        "print('Character of product = ', character)"
      ],
      "metadata": {
        "colab": {
          "base_uri": "https://localhost:8080/"
        },
        "id": "75N-1y5vU4yv",
        "outputId": "cec2f472-22a9-435a-f098-d9d4cc2ee024"
      },
      "execution_count": null,
      "outputs": [
        {
          "output_type": "stream",
          "name": "stdout",
          "text": [
            "Enter the prior price : 3\n",
            "Enter the prior amount : 10\n",
            "Enter the latter price : 3.75\n",
            "Enter the latter amount : 8\n",
            "Elasticity =  -2.6666666666666665\n",
            "Character of product =  Relatively inelastic\n"
          ]
        }
      ]
    }
  ]
}